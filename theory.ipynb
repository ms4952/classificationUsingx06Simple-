{
 "cells": [
  {
   "cell_type": "code",
   "execution_count": 1,
   "metadata": {},
   "outputs": [
    {
     "name": "stdout",
     "output_type": "stream",
     "text": [
      "theta [ 1.4        -1.50355704]\n"
     ]
    }
   ],
   "source": [
    "#Solution for 1a \n",
    "import numpy as np\n",
    "from numpy.linalg import inv\n",
    "x=np.array([[-2],[-5],[-3],[0],[-6],[-2],[1],[5],[-1],[3]])\n",
    "mean= np.mean(x, axis=0)\n",
    "std = np.std(x, axis=0, ddof=1)\n",
    "x = (x-mean)/std\n",
    "\n",
    "x=np.hstack([np.ones([x.shape[0],1]),x])\n",
    "y=np.array([1,-4,1,3,11,5,0,-1,-3,1])\n",
    "xt=x.transpose()\n",
    "xtx=np.dot(xt,x)\n",
    "xtxinv = inv(xtx)\n",
    "\n",
    "totalx=np.dot(xtxinv,xt)\n",
    "theta=np.dot(totalx,y)\n",
    "print(\"theta\",theta)"
   ]
  },
  {
   "cell_type": "code",
   "execution_count": 2,
   "metadata": {},
   "outputs": [
    {
     "name": "stdout",
     "output_type": "stream",
     "text": [
      "coeffcient [ 0.         -1.50355703]\n",
      "intercept 1.400000001503557\n"
     ]
    }
   ],
   "source": [
    "#solution for 1b\n",
    "import numpy as np\n",
    "from sklearn.linear_model import LinearRegression\n",
    "X = np.array([[1,-0.2941742],[1,-1.17669681],[1,-0.58834841],[1,0.2941742],[1,-1.47087101],[1,-0.2941742],[1,0.58834841],[1,1.76504522],[1,0.0],[1,1.17669681]])\n",
    "#print(X)\n",
    "y=np.array([1,-4,1,3,11,5,0,-1,-3,1]) \n",
    "reg = LinearRegression().fit(X, y)\n",
    "\n",
    "print(\"coeffcient\",reg.coef_)\n",
    "print(\"intercept\",reg.intercept_)"
   ]
  },
  {
   "cell_type": "code",
   "execution_count": null,
   "metadata": {},
   "outputs": [],
   "source": []
  }
 ],
 "metadata": {
  "kernelspec": {
   "display_name": "Python 3",
   "language": "python",
   "name": "python3"
  },
  "language_info": {
   "codemirror_mode": {
    "name": "ipython",
    "version": 3
   },
   "file_extension": ".py",
   "mimetype": "text/x-python",
   "name": "python",
   "nbconvert_exporter": "python",
   "pygments_lexer": "ipython3",
   "version": "3.7.1"
  }
 },
 "nbformat": 4,
 "nbformat_minor": 2
}
