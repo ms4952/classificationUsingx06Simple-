{
 "cells": [
  {
   "cell_type": "code",
   "execution_count": 1,
   "metadata": {},
   "outputs": [
    {
     "name": "stdout",
     "output_type": "stream",
     "text": [
      "theta [[3343.27586207]\n",
      " [1036.63016523]\n",
      " [-295.66859639]]\n",
      "root mean square error 653.7601025967209\n"
     ]
    }
   ],
   "source": [
    "import numpy as np\n",
    "from numpy.linalg import inv\n",
    "import math \n",
    "import random\n",
    "#extracting data from csv file\n",
    "data = np.genfromtxt('./x06Simple.csv', delimiter=',', dtype=\"int16\", skip_header=1, usecols=(1,2,3))\n",
    "#randomising the data\n",
    "np.random.seed(0)\n",
    "np.random.shuffle(data)\n",
    "#split the data into train and test\n",
    "train_pct_index = int((2/3) * len(data))\n",
    "train,test = data[:train_pct_index], data[train_pct_index:]\n",
    "#split features from the length of fish\n",
    "trainy=train[:, 2:]\n",
    "trainx=train[:, :2]\n",
    "testy=test[:, 2:]\n",
    "testx=test[:, :2]\n",
    "#standadise the data\n",
    "mean= np.mean(trainx, axis=0)\n",
    "std = np.std(trainx, axis=0, ddof=1)\n",
    "trainxStd = (trainx-mean)/std\n",
    "testxStd = (testx-mean)/std\n",
    "#add bias\n",
    "trainxStd = np.hstack([np.ones([trainxStd.shape[0],1]), trainxStd])\n",
    "testxStd = np.hstack([np.ones([testxStd.shape[0],1]), testxStd])\n",
    "#Computes the closed-form solution of linear regression\n",
    "xt=trainxStd.transpose()\n",
    "xtx=np.dot(xt,trainxStd)\n",
    "xtxinv = inv(xtx)\n",
    "totalx=np.dot(xtxinv,xt)\n",
    "theta=np.dot(totalx,trainy)\n",
    "print(\"theta\",theta)\n",
    "error=0\n",
    "LengthOfFish=np.dot(testxStd,theta)\n",
    "#Computes the root mean squared error\n",
    "rmse=np.sqrt(np.mean((testy-LengthOfFish)**2)) \n",
    "print(\"root mean square error\",rmse)\n",
    "\n"
   ]
  },
  {
   "cell_type": "code",
   "execution_count": null,
   "metadata": {},
   "outputs": [],
   "source": []
  }
 ],
 "metadata": {
  "kernelspec": {
   "display_name": "Python 3",
   "language": "python",
   "name": "python3"
  },
  "language_info": {
   "codemirror_mode": {
    "name": "ipython",
    "version": 3
   },
   "file_extension": ".py",
   "mimetype": "text/x-python",
   "name": "python",
   "nbconvert_exporter": "python",
   "pygments_lexer": "ipython3",
   "version": "3.7.1"
  }
 },
 "nbformat": 4,
 "nbformat_minor": 2
}
