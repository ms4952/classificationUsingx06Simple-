{
 "cells": [
  {
   "cell_type": "code",
   "execution_count": 3,
   "metadata": {},
   "outputs": [
    {
     "name": "stderr",
     "output_type": "stream",
     "text": [
      "/Users/harshpathak/anaconda3/lib/python3.7/site-packages/ipykernel_launcher.py:67: RuntimeWarning: divide by zero encountered in double_scalars\n"
     ]
    },
    {
     "data": {
      "image/png": "[encoded data removed]",
      "text/plain": [
       "<Figure size 432x288 with 1 Axes>"
      ]
     },
     "metadata": {
      "needs_background": "light"
     },
     "output_type": "display_data"
    },
    {
     "name": "stdout",
     "output_type": "stream",
     "text": [
      "Final RMSE testing error 653.7078535814501\n",
      "theta [[3343.13149985]\n",
      " [1036.56766269]\n",
      " [-295.65400871]]\n"
     ]
    }
   ],
   "source": [
    "import numpy as np\n",
    "import random\n",
    "import math\n",
    "import matplotlib.pyplot as plt\n",
    "\n",
    "def plotgraph(it,rte,rtr):\n",
    "    plt.title('A graph of the RMSE with training and testing set as function of the iteration') \n",
    "    plt.xlabel('iteration')\n",
    "    plt.ylabel('RSME')\n",
    "  \n",
    "    plt.plot(it, rtr,color='green',linestyle='dashed',label = \"TRAIN\")\n",
    "    plt.plot(it, rte,color='red',linestyle='solid',label = \"TEST\")\n",
    "\n",
    "    plt.legend()\n",
    "    plt.show()\n",
    "#extracting data from csv file\n",
    "data = np.genfromtxt('./x06Simple.csv',delimiter=',',dtype=\"int16\",skip_header=1,usecols=(1,2,3))\n",
    "theta=[]\n",
    "np.random.seed(0)\n",
    "np.random.shuffle(data)\n",
    "#train, test = train_test_split(data, test_size=0.33)\n",
    "train_pct_index = int((2/3) * len(data))\n",
    "train,test = data[:train_pct_index], data[train_pct_index:]\n",
    "\n",
    "trainy=train[:, 2:]\n",
    "trainx=train[:, :2]\n",
    "testy=test[:, 2:]\n",
    "testx=test[:, :2]\n",
    "mean= np.mean(trainx, axis=0)\n",
    "std = np.std(trainx, axis=0, ddof=1)\n",
    "trainxStd = (trainx-mean)/std\n",
    "testxStd = (testx-mean)/std\n",
    "trainxStd = np.hstack([np.ones([trainxStd.shape[0],1]), trainxStd])\n",
    "N=len(trainxStd)\n",
    "testxStd = np.hstack([np.ones([testxStd.shape[0],1]), testxStd])\n",
    "itr=0\n",
    "pr=1\n",
    "xt=trainxStd.transpose()\n",
    "learningRate=0.01\n",
    "\n",
    "learningRate=learningRate\n",
    "rte=[]\n",
    "rtr=[]\n",
    "it=[]\n",
    "for i in range(3):\n",
    "    theta.append(random.uniform(-1,1))\n",
    "RSMEtrain0=0    \n",
    "theta=np.array(theta).reshape(3,1)\n",
    "#While the termination criteria hasn't been met\n",
    "while(itr<1000 and pr>2**-23):\n",
    "    mid=np.dot(trainxStd,theta)-trainy\n",
    "    gradient=(np.dot(xt,mid))\n",
    "    #computing batch gradient\n",
    "    batchGradient=(learningRate*gradient)/N\n",
    "    theta=theta-batchGradient\n",
    "    it.append(itr)\n",
    "    itr=itr+1\n",
    "    LengthOfFishTest=np.dot(testxStd,theta)\n",
    "    LengthOfFishTrain=np.dot(trainxStd,theta)\n",
    "    #Compute the RMSE of the testing error\n",
    "    RSMEtest=np.sqrt(np.mean((testy-LengthOfFishTest)**2)) \n",
    "    rte.append(RSMEtest)\n",
    "    #Compute the RMSE of the training data\n",
    "    RSMEtrain1=np.sqrt(np.mean((trainy-LengthOfFishTrain)**2)) \n",
    "    rtr.append(RSMEtrain1)\n",
    "    changeInTrainingError=np.abs(RSMEtrain1-RSMEtrain0)\n",
    "    percentChange =(changeInTrainingError/RSMEtrain0)*100\n",
    "    RSMEtrain0=RSMEtrain1\n",
    "    LengthOfFishTest1=np.dot(testxStd,theta)\n",
    "plotgraph(it,rte,rtr)\n",
    "#Compute the RMSE of the testing data    \n",
    "RSMEtest1=np.sqrt(np.mean((testy-LengthOfFishTest1)**2)) \n",
    "print(\"Final RMSE testing error\",RSMEtest1)\n",
    "print(\"theta\",theta)\n"
   ]
  },
  {
   "cell_type": "code",
   "execution_count": null,
   "metadata": {},
   "outputs": [],
   "source": []
  },
  {
   "cell_type": "code",
   "execution_count": null,
   "metadata": {},
   "outputs": [],
   "source": []
  }
 ],
 "metadata": {
  "kernelspec": {
   "display_name": "Python 3",
   "language": "python",
   "name": "python3"
  },
  "language_info": {
   "codemirror_mode": {
    "name": "ipython",
    "version": 3
   },
   "file_extension": ".py",
   "mimetype": "text/x-python",
   "name": "python",
   "nbconvert_exporter": "python",
   "pygments_lexer": "ipython3",
   "version": "3.7.1"
  }
 },
 "nbformat": 4,
 "nbformat_minor": 2
}
