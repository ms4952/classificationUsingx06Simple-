{
 "cells": [
  {
   "cell_type": "code",
   "execution_count": 1,
   "metadata": {},
   "outputs": [
    {
     "name": "stdout",
     "output_type": "stream",
     "text": [
      "mean rmse for  3 is 631.1294795997412\n",
      "standard deviation for  3 is 32.71000824125243\n",
      "mean rmse for  5 is 629.2446174143713\n",
      "standard deviation for  5 is 27.263781523445907\n",
      "mean rmse for  20 is 623.1116911146403\n",
      "standard deviation for  20 is 7.795521395414729\n",
      "mean rmse for  44 is 623.4051391831033\n",
      "standard deviation for  44 is 1.7102815620135482e-13\n"
     ]
    }
   ],
   "source": [
    "import numpy as np\n",
    "from numpy.linalg import inv\n",
    "import math \n",
    "import random\n",
    "from sklearn.model_selection import KFold\n",
    "\n",
    "\n",
    "\n",
    "def sFoldSolve():\n",
    "\n",
    "    squaredErrorTotal=[]\n",
    "    #Creates S folds and split the data into train n test accordingly.\n",
    "    kfold = KFold(fold, True, 1)\n",
    "    for train, test in kfold.split(data):\n",
    "        trainy=data[train][:, 2:]\n",
    "        trainx=data[train][:, :2]\n",
    "        testy=data[test][:, 2:]\n",
    "        testx=data[test][:, :2]\n",
    "        #standadise the data\n",
    "        mean= np.mean(trainx, axis=0)\n",
    "        std = np.std(trainx, axis=0, ddof=1)\n",
    "        trainxStd = (trainx-mean)/std\n",
    "        testxStd = (testx-mean)/std\n",
    "        #add bias\n",
    "        trainxStd = np.hstack([np.ones([trainxStd.shape[0],1]), trainxStd])\n",
    "        testxStd = np.hstack([np.ones([testxStd.shape[0],1]), testxStd])\n",
    "        xt=trainxStd.transpose()\n",
    "\n",
    "        xtx=np.dot(xt,trainxStd)\n",
    "\n",
    "        xtxinv = inv(xtx)\n",
    "        totalx=np.dot(xtxinv,xt)\n",
    "        theta=np.dot(totalx,trainy)\n",
    "        LengthOfFish=np.dot(testxStd,theta)\n",
    "        #Compute the squared error for each sample in the current testing fold\n",
    "        squaredError=(testy-LengthOfFish)**2\n",
    "        squaredErrorTotal.extend(squaredError)\n",
    "#Compute the RMSE\n",
    "    rmse=np.sqrt(np.mean(squaredErrorTotal, axis = None))    \n",
    "    return rmse\n",
    "#extracting data from csv file\n",
    "data = np.genfromtxt('./x06Simple.csv', delimiter=',', dtype=\"int16\", skip_header=1, usecols=(1,2,3))\n",
    "lengthOfSamples=len(data)\n",
    "#run loop for following fold values \n",
    "s=[3,5,20,lengthOfSamples]\n",
    "\n",
    "for fold in s:\n",
    "\n",
    "    calcrmse=[]\n",
    "    for i in range(20):\n",
    " #randomising the data       \n",
    "        np.random.seed(i)\n",
    "        np.random.shuffle(data)\n",
    "        rmse=sFoldSolve()\n",
    "        calcrmse.append(rmse)\n",
    "    #Compute the mean and standard deviation of these.    \n",
    "    finalMean = np.mean(calcrmse, axis=0)\n",
    "    finalstd = np.std(calcrmse, axis=0, ddof=1)\n",
    "    print(\"mean rmse for \",fold,\"is\",finalMean)\n",
    "    print(\"standard deviation for \",fold,\"is\",finalstd)    \n",
    "    \n"
   ]
  },
  {
   "cell_type": "code",
   "execution_count": null,
   "metadata": {},
   "outputs": [],
   "source": []
  },
  {
   "cell_type": "code",
   "execution_count": null,
   "metadata": {},
   "outputs": [],
   "source": []
  }
 ],
 "metadata": {
  "kernelspec": {
   "display_name": "Python 3",
   "language": "python",
   "name": "python3"
  },
  "language_info": {
   "codemirror_mode": {
    "name": "ipython",
    "version": 3
   },
   "file_extension": ".py",
   "mimetype": "text/x-python",
   "name": "python",
   "nbconvert_exporter": "python",
   "pygments_lexer": "ipython3",
   "version": "3.7.1"
  }
 },
 "nbformat": 4,
 "nbformat_minor": 2
}
