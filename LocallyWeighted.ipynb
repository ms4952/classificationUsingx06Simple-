{
 "cells": [
  {
   "cell_type": "code",
   "execution_count": 1,
   "metadata": {},
   "outputs": [
    {
     "name": "stdout",
     "output_type": "stream",
     "text": [
      "RMSE 558.3364441575844\n"
     ]
    }
   ],
   "source": [
    "import numpy as np\n",
    "from numpy.linalg import inv\n",
    "from numpy.linalg import multi_dot\n",
    "import math \n",
    "import random\n",
    "#extracting data from csv file\n",
    "data = np.genfromtxt('./x06Simple.csv', delimiter=',', dtype=\"int16\", skip_header=1, usecols=(1,2,3))\n",
    "k=1\n",
    "squaredErrorTotal=[]\n",
    "#randomising the data\n",
    "np.random.seed(0)\n",
    "np.random.shuffle(data)\n",
    "#split the data into train and test\n",
    "train_pct_index = int((2/3) * len(data))\n",
    "train,test = data[:train_pct_index], data[train_pct_index:]\n",
    "#split features from the length of fish\n",
    "trainy=train[:, 2:]\n",
    "trainx=train[:, :2]\n",
    "testy=test[:, 2:]\n",
    "testx=test[:, :2]\n",
    "#standadise the data\n",
    "mean= np.mean(trainx, axis=0)\n",
    "std = np.std(trainx, axis=0, ddof=1)\n",
    "trainxStd = (trainx-mean)/std\n",
    "testxStd = (testx-mean)/std\n",
    "#add bias\n",
    "trainxStd = np.hstack([np.ones([trainxStd.shape[0],1]), trainxStd])\n",
    "testxStd = np.hstack([np.ones([testxStd.shape[0],1]), testxStd])\n",
    "xt=trainxStd.transpose()\n",
    "#for each testing sample        \n",
    "for i in range(len(testxStd)):\n",
    "    dist=[]\n",
    "    #distance matrices relative to the training data\n",
    "    for j in range(len(trainxStd)):\n",
    "        sum=abs(testxStd[:,2][i]-trainxStd[:,2][j])+abs(testxStd[:,1][i])\n",
    "        sum=-sum/k ** 2\n",
    "        dist.append(sum)\n",
    "    dist=np.exp(dist)\n",
    "    w = np.diag(dist)\n",
    "    xtx=multi_dot([xt,w,trainxStd])\n",
    "    xtxinv = inv(xtx)\n",
    "    theta=multi_dot([xtxinv,xt,w,trainy])\n",
    "    #Evaluate the testing sample using the local model.\n",
    "    LengthOfFish=np.dot(testxStd[i],theta)\n",
    "    #Compute the squared error of the testing sample.\n",
    "    squaredError=(testy[i]-LengthOfFish)**2\n",
    "    squaredErrorTotal.extend(squaredError)\n",
    "#Computes the root mean squared error    \n",
    "rmse=np.sqrt(np.mean(squaredErrorTotal, axis = None))    \n",
    "print(\"RMSE\",rmse)\n"
   ]
  },
  {
   "cell_type": "code",
   "execution_count": null,
   "metadata": {},
   "outputs": [],
   "source": []
  }
 ],
 "metadata": {
  "kernelspec": {
   "display_name": "Python 3",
   "language": "python",
   "name": "python3"
  },
  "language_info": {
   "codemirror_mode": {
    "name": "ipython",
    "version": 3
   },
   "file_extension": ".py",
   "mimetype": "text/x-python",
   "name": "python",
   "nbconvert_exporter": "python",
   "pygments_lexer": "ipython3",
   "version": "3.7.1"
  }
 },
 "nbformat": 4,
 "nbformat_minor": 2
}
